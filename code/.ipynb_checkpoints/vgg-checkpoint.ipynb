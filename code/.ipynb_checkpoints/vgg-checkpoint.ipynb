{
 "cells": [
  {
   "cell_type": "code",
   "execution_count": 1,
   "metadata": {},
   "outputs": [
    {
     "name": "stdout",
     "output_type": "stream",
     "text": [
      "hi\n"
     ]
    },
    {
     "name": "stderr",
     "output_type": "stream",
     "text": [
      "Using TensorFlow backend.\n"
     ]
    }
   ],
   "source": [
    "import os\n",
    "print(\"hi\")\n",
    "from tensorflow import keras\n",
    "from keras.datasets import mnist\n",
    "from keras.models import Sequential\n",
    "from keras.layers import Dense, Dropout, Flatten, Activation\n",
    "from keras.layers import Conv2D, MaxPooling2D, BatchNormalization\n",
    "from keras import backend as K\n",
    "import matplotlib.pyplot as plt\n",
    "from datetime import datetime\n",
    "from LReLU import LReLU\n",
    "import os\n",
    "import numpy as np\n",
    "import cv2\n",
    "import random\n",
    "from tensorflow.keras.applications.vgg16 import VGG16\n",
    "from tensorflow.keras.applications.vgg16 import preprocess_input\n",
    "from getData import create_dataset\n",
    "from tensorflow.keras.preprocessing import image\n",
    "\n",
    "random.seed(552)\n",
    "split_path = '../data/images/split/train_val_test_crop'\n",
    "\n"
   ]
  },
  {
   "cell_type": "code",
   "execution_count": null,
   "metadata": {},
   "outputs": [],
   "source": [
    "# load and normalize data\n",
    "x_train, x_val, x_test, y_train, y_val, y_test = create_dataset(split_path)\n",
    "\n",
    "train = list(zip(x_train, y_train))\n",
    "test = list(zip(x_test, y_test))\n",
    "val = list(zip(x_val, y_val))\n",
    "random.shuffle(train)\n",
    "random.shuffle(test)\n",
    "random.shuffle(val)\n",
    "\n",
    "x_train, y_train = zip(*train)\n",
    "x_train = np.array(x_train)\n",
    "y_train = np.array(y_train)\n",
    "\n",
    "x_test, y_test = zip(*test)\n",
    "x_test = np.array(x_test)\n",
    "y_test = np.array(y_test)\n",
    "\n",
    "x_val, y_val = zip(*val)\n",
    "x_val = np.array(x_val)\n",
    "y_val = np.array(y_val)\n",
    "\n",
    "\n",
    "batch_size = 128\n",
    "num_classes = 2\n",
    "epochs = 5\n",
    "\n",
    "# input image dimensions\n",
    "img_rows, img_cols = 926, 926\n",
    "\n",
    "print(x_val.shape)\n",
    "\n",
    "# convert data format to channel last format\n",
    "x_train = x_train.reshape(x_train.shape[0], img_rows, img_cols, 1)\n",
    "x_valid = x_val.reshape(x_val.shape[0], img_rows, img_cols, 1)\n",
    "x_test = x_test.reshape(x_test.shape[0], img_rows, img_cols, 1)\n",
    "input_shape = (img_rows, img_cols, 1)\n",
    "print(x_valid.shape)\n",
    "\n",
    "# convert class vectors to binary class matrices\n",
    "y_train = keras.utils.to_categorical(y_train, num_classes)\n",
    "y_valid = keras.utils.to_categorical(y_val, num_classes)\n",
    "y_test = keras.utils.to_categorical(y_test, num_classes)"
   ]
  },
  {
   "cell_type": "code",
   "execution_count": 2,
   "metadata": {},
   "outputs": [
    {
     "name": "stdout",
     "output_type": "stream",
     "text": [
      "Downloading data from https://storage.googleapis.com/tensorflow/keras-applications/vgg16/vgg16_weights_tf_dim_ordering_tf_kernels_notop.h5\n",
      "58892288/58889256 [==============================] - 4s 0us/step\n"
     ]
    }
   ],
   "source": [
    "model = VGG16(weights='imagenet', include_top=False)\n",
    "img_path = '../data/images/split/aug/male/3.bmp'\n",
    "\n",
    "img = image.load_img(img_path, target_size=(224, 224))\n",
    "x = image.img_to_array(img)\n",
    "x = np.expand_dims(x, axis=0)\n",
    "x = preprocess_input(x)\n",
    "\n",
    "preds = model.predict(x)\n",
    "# decode the results into a list of tuples (class, description, probability)\n",
    "# (one such list for each sample in the batch)\n",
    "print('Predicted:', decode_predictions(preds, top=3)[0])"
   ]
  },
  {
   "cell_type": "code",
   "execution_count": 3,
   "metadata": {},
   "outputs": [
    {
     "name": "stdout",
     "output_type": "stream",
     "text": [
      "[[[[0.        0.        0.        ... 0.        0.        0.       ]\n",
      "   [0.        0.        0.        ... 0.        0.        0.       ]\n",
      "   [0.        0.        0.        ... 0.        0.        0.       ]\n",
      "   ...\n",
      "   [0.        0.        0.        ... 0.        0.        0.       ]\n",
      "   [0.        0.        0.        ... 0.        0.        0.       ]\n",
      "   [0.        0.        0.        ... 0.        0.        0.       ]]\n",
      "\n",
      "  [[0.        0.        0.        ... 0.        0.        0.       ]\n",
      "   [0.        0.        0.        ... 0.        0.        0.       ]\n",
      "   [0.        0.        0.        ... 0.        0.        0.       ]\n",
      "   ...\n",
      "   [0.        0.        0.        ... 0.        0.        0.       ]\n",
      "   [0.        0.        0.        ... 0.        0.        0.       ]\n",
      "   [0.        0.        0.        ... 0.        0.        0.       ]]\n",
      "\n",
      "  [[0.        0.        0.        ... 0.        0.        0.       ]\n",
      "   [0.        0.        0.        ... 0.        0.        0.       ]\n",
      "   [0.        0.        0.        ... 0.        0.        0.       ]\n",
      "   ...\n",
      "   [0.        0.        1.4259965 ... 0.        0.        0.       ]\n",
      "   [0.        0.        0.        ... 0.        0.        0.       ]\n",
      "   [0.        0.        0.        ... 0.        0.        0.       ]]\n",
      "\n",
      "  ...\n",
      "\n",
      "  [[0.        0.        0.        ... 0.        0.        0.       ]\n",
      "   [0.        0.        0.        ... 0.        0.        0.       ]\n",
      "   [1.3883908 0.        0.        ... 0.        0.        0.       ]\n",
      "   ...\n",
      "   [0.        0.        0.        ... 0.        0.        0.       ]\n",
      "   [0.        0.        0.        ... 0.        0.        0.       ]\n",
      "   [0.        0.        0.        ... 0.        0.        0.       ]]\n",
      "\n",
      "  [[0.        0.        0.        ... 0.        0.        0.       ]\n",
      "   [0.        0.        0.        ... 0.        0.        0.       ]\n",
      "   [0.        0.        0.        ... 0.        0.        0.       ]\n",
      "   ...\n",
      "   [0.        0.        0.        ... 0.        0.        0.       ]\n",
      "   [0.        0.        0.        ... 0.        0.        0.       ]\n",
      "   [0.        0.        0.        ... 0.        0.        0.       ]]\n",
      "\n",
      "  [[0.        0.        0.        ... 0.        1.2271068 0.       ]\n",
      "   [0.        0.        0.        ... 0.        0.        0.       ]\n",
      "   [0.        0.        0.        ... 0.        0.        0.       ]\n",
      "   ...\n",
      "   [0.        0.        0.        ... 0.        0.        0.       ]\n",
      "   [0.        0.        0.        ... 0.        0.        0.       ]\n",
      "   [0.        0.        0.        ... 0.        0.        0.       ]]]]\n"
     ]
    }
   ],
   "source": [
    "print(features)"
   ]
  },
  {
   "cell_type": "code",
   "execution_count": null,
   "metadata": {},
   "outputs": [],
   "source": []
  }
 ],
 "metadata": {
  "kernelspec": {
   "display_name": "Python 3",
   "language": "python",
   "name": "python3"
  },
  "language_info": {
   "codemirror_mode": {
    "name": "ipython",
    "version": 3
   },
   "file_extension": ".py",
   "mimetype": "text/x-python",
   "name": "python",
   "nbconvert_exporter": "python",
   "pygments_lexer": "ipython3",
   "version": "3.7.4"
  }
 },
 "nbformat": 4,
 "nbformat_minor": 1
}
